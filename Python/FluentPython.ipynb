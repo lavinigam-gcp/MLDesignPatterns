{
 "cells": [
  {
   "attachments": {},
   "cell_type": "markdown",
   "metadata": {},
   "source": [
    "This notebook covers Python from ML Engineering point. \n",
    "\n",
    "Reference: https://www.oreilly.com/library/view/fluent-python-2nd/9781492056348/\n",
    "\n",
    "Code Source: https://github.com/fluentpython/example-code-2e\n",
    "\n",
    "The goal is simple: How can we best use Python's Power to build state-of-art Python ML Pipelines (MLOps)\n",
    "\n",
    "Python is an easy to learn and powerful programming language, however, most python programmers use fraction of its powerful features. \n",
    "\n",
    "This is not \"Intro to Python\". These are important Python Design Patterns. "
   ]
  },
  {
   "attachments": {},
   "cell_type": "markdown",
   "metadata": {},
   "source": [
    "## Python Data Model"
   ]
  },
  {
   "cell_type": "code",
   "execution_count": null,
   "metadata": {},
   "outputs": [],
   "source": []
  }
 ],
 "metadata": {
  "kernelspec": {
   "display_name": "Python 3",
   "language": "python",
   "name": "python3"
  },
  "language_info": {
   "name": "python",
   "version": "3.8.2"
  },
  "orig_nbformat": 4,
  "vscode": {
   "interpreter": {
    "hash": "31f2aee4e71d21fbe5cf8b01ff0e069b9275f58929596ceb00d14d90e3e16cd6"
   }
  }
 },
 "nbformat": 4,
 "nbformat_minor": 2
}
