{
 "cells": [
  {
   "attachments": {},
   "cell_type": "markdown",
   "metadata": {},
   "source": [
    "This notebook covers Python from ML Engineering point. \n",
    "Reference: https://www.oreilly.com/library/view/fluent-python-2nd/9781492056348/\n",
    "Code Source: https://github.com/fluentpython/example-code-2e\n",
    "\n",
    "The goal is simple: How can we best use Pythons Power to build state-of-art Python ML Pipelines (MLOps)"
   ]
  }
 ],
 "metadata": {
  "language_info": {
   "name": "python"
  },
  "orig_nbformat": 4
 },
 "nbformat": 4,
 "nbformat_minor": 2
}
